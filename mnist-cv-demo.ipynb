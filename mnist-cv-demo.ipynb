{
  "cells": [
    {
      "cell_type": "markdown",
      "metadata": {
        "colab_type": "text",
        "id": "Cot8X6iLRzAb"
      },
      "source": [
        "# Import the MNIST Dataset"
      ]
    },
    {
      "cell_type": "code",
      "execution_count": 147,
      "metadata": {
        "colab": {
          "base_uri": "https://localhost:8080/",
          "height": 68
        },
        "colab_type": "code",
        "id": "ZnTkiVfzRuVc",
        "outputId": "55862d93-08f0-492f-f586-32af0c52427d"
      },
      "outputs": [],
      "source": [
        "import numpy as np\n",
        "import matplotlib.pyplot as plt\n",
        "%matplotlib inline\n",
        "import keras\n",
        "from keras.models import Sequential\n",
        "from keras.layers import Dense, Dropout\n",
        "from sklearn.metrics import confusion_matrix\n",
        "import seaborn as sns\n",
        "\n",
        "np.random.seed(0)"
      ]
    },
    {
      "cell_type": "markdown",
      "metadata": {
        "colab_type": "text",
        "id": "itkJl2JhSV3D"
      },
      "source": [
        "# Split the Dataset to prepare for training and testing phases"
      ]
    },
    {
      "cell_type": "code",
      "execution_count": 148,
      "metadata": {
        "colab": {
          "base_uri": "https://localhost:8080/",
          "height": 51
        },
        "colab_type": "code",
        "id": "-COGMFL7SMcr",
        "outputId": "45dc2db5-14e4-4eb5-fdf8-00a05d119670"
      },
      "outputs": [],
      "source": [
        "# Import the MNIST Dataset directly from keras includzed datasets\n",
        "from keras.datasets import mnist\n",
        "(x_train, y_train), (x_test, y_test) = mnist.load_data()"
      ]
    },
    {
      "cell_type": "code",
      "execution_count": 149,
      "metadata": {
        "colab": {
          "base_uri": "https://localhost:8080/",
          "height": 51
        },
        "colab_type": "code",
        "id": "0pSoTVF3Sd34",
        "outputId": "0a9cd985-b8b7-4076-d495-410054cb694d"
      },
      "outputs": [
        {
          "name": "stdout",
          "output_type": "stream",
          "text": [
            "(60000, 28, 28) (60000,)\n",
            "(10000, 28, 28) (10000,)\n"
          ]
        }
      ],
      "source": [
        "# Print the shape of the training and tests sets\n",
        "print(x_train.shape, y_train.shape)\n",
        "print(x_test.shape, y_test.shape)"
      ]
    },
    {
      "cell_type": "markdown",
      "metadata": {
        "colab_type": "text",
        "id": "3MN8ehUcSqqz"
      },
      "source": [
        "# Visualize some Sample Examples from the MNIST Dataset"
      ]
    },
    {
      "cell_type": "code",
      "execution_count": 172,
      "metadata": {
        "colab": {
          "base_uri": "https://localhost:8080/",
          "height": 160
        },
        "colab_type": "code",
        "id": "n2psUUkISllz",
        "outputId": "f3454570-1441-49fb-bf3e-c0a0136ace23"
      },
      "outputs": [
        {
          "name": "stdout",
          "output_type": "stream",
          "text": [
            "Display images of all possible modalities in the MNIST dataset:\n",
            "\n",
            "Random image at index 17089 :\n",
            "- - - - - - - - - - - - - - - - - - - - - - - - - - - - \n",
            "- - - - - - - - - - - - - - - - - - - - - - - - - - - - \n",
            "- - - - - - - - - - - - - - - - - - - - - - - - - - - - \n",
            "- - - - - - - O O O - - - - - - - - - - - - - - - - - - \n",
            "- - - - - - O O O O O O O - - - - - - - - - - - - - - - \n",
            "- - - - - - O O O O O O O O - - - - - - - - - - - - - - \n",
            "- - - - - - O O - - O O O O O - - - - - - - - - - - - - \n",
            "- - - - - - - - - - - - O O O - - - - - - - - - - - - - \n",
            "- - - - - - - - - - - - O O O - - - - - - - - - - - - - \n",
            "- - - - - - - - - - - - O O O O - - - - - - - - - - - - \n",
            "- - - - - - - - - - - - O O O O - - - - - - - - - - - - \n",
            "- - - - - - - - - - - - O O O O - - - - - - - - - - - - \n",
            "- - - - - - - - - - - - O O O - - - - - - - - - - - - - \n",
            "- - - - - - - - - - - O O O O - - - - - - - - - - - - - \n",
            "- - - - - - - - - - - O O O O - - - - - - - - - - - - - \n",
            "- - - - - - - - - - O O O O - - - - - - - - - - - - - - \n",
            "- - - - - - - - - - O O O - - - - - - - - - - - - - - - \n",
            "- - - - - - - - - O O O O - - - - - - - - - - - - - - - \n",
            "- - - - - - - - - O O O - - - - - - - - - - - O O O - - \n",
            "- - - - - - - - - O O O O - - - - - - - O O O O O O - - \n",
            "- - - - - - - - - O O O O O O O O O O O O O O O O O - - \n",
            "- - - - - - - - - - O O O O O O O O O O O O - - - - - - \n",
            "- - - - - - - - - - - O O O O O O O - - - - - - - - - - \n",
            "- - - - - - - - - - - - - - - - - - - - - - - - - - - - \n",
            "- - - - - - - - - - - - - - - - - - - - - - - - - - - - \n",
            "- - - - - - - - - - - - - - - - - - - - - - - - - - - - \n",
            "- - - - - - - - - - - - - - - - - - - - - - - - - - - - \n",
            "- - - - - - - - - - - - - - - - - - - - - - - - - - - - \n"
          ]
        },
        {
          "data": {
            "image/png": "[encoded data removed]",
            "text/plain": [
              "<Figure size 2000x2000 with 10 Axes>"
            ]
          },
          "metadata": {},
          "output_type": "display_data"
        }
      ],
      "source": [
        "# Define the number of classes (e.g., digits 0-9)\n",
        "num_classes = 10\n",
        "\n",
        "# Create a figure with subplots for each class\n",
        "f, ax = plt.subplots(1, num_classes, figsize=(20,20))\n",
        "\n",
        "print('Display images of all possible modalities in the MNIST dataset:\\n')\n",
        "\n",
        "# Loop on the x_train dataset to display all possible modalities in the dataset (test on y_test that we know is true)\n",
        "for i in range(0, num_classes):\n",
        "  # Get the first sample from the current class (assuming x_train and y_train are available)\n",
        "  sample = x_train[y_train == i][0]\n",
        "\n",
        "  # Display the sample as an image using grayscale colormap\n",
        "  ax[i].imshow(sample, cmap='gray')\n",
        "\n",
        "  # Set the title of the subplot with the label number\n",
        "  ax[i].set_title(\"Label: {}\".format(i), fontsize=16)\n",
        "\n",
        "# Pick a random index and print the [28x28] matrix corresponding to the image at this index\n",
        "# We will set 0 and 1 values only in the matrix to show the numbers with '1'\n",
        "random_idx = np.random.choice(len(x_train))\n",
        "\n",
        "# Print image matrix with real values\n",
        "#print(x_train[random_idx])\n",
        "\n",
        "# Print image matrix with values normalized to 0 ('-') or 1 ('x')\n",
        "image = x_train[random_idx].reshape((28, 28))\n",
        "print(\"Random image at index\", random_idx, \":\")\n",
        "for row in image:\n",
        "        for pixel in row:\n",
        "            if pixel > 127:\n",
        "                print(\"O\", end=' ')\n",
        "            else:\n",
        "                print(\"-\", end=' ')\n",
        "        print()\n",
        "\n",
        "# Assuming x_train is a NumPy array with shape (60000, 784)\n",
        "#num_images = len(x_train)\n",
        "#for i in range(num_images):\n",
        "#    image = x_train[i].reshape((28, 28))\n",
        "#    print(\"Image\", i, \":\\n\")\n",
        "#    print(image)\n"
      ]
    },
    {
      "cell_type": "code",
      "execution_count": 132,
      "metadata": {},
      "outputs": [],
      "source": [
        "# In Keras, when working with categorical labels (i.e., discrete outcomes), you need to convert them into a categorical format. \n",
        "# This is because the default loss function and optimization algorithms assume that the outputs are real-valued (continuous).\n",
        "\n",
        "# The to_categorical() function from Keras' utils module does just that: it converts  integer-encoded categorical labels into one-hot encoded arrays.\n",
        "# Here's what happens:\n",
        "#    For each sample in y_train and y_test, you get a vector of length num_classes, where:\n",
        "#       The index corresponding to the true class label is set to 1 (i.e., True or 1).\n",
        "#       All other indices are set to 0 (i.e., False or 0).\n",
        "# This one-hot encoded representation allows you to use categorical cross-entropy loss functions, such as categorical_crossentropy, which is commonly used for multi-class classification problems.\n",
        "y_train = keras.utils.to_categorical(y_train, num_classes)\n",
        "y_test = keras.utils.to_categorical(y_test, num_classes)"
      ]
    },
    {
      "cell_type": "code",
      "execution_count": 133,
      "metadata": {
        "colab": {
          "base_uri": "https://localhost:8080/",
          "height": 187
        },
        "colab_type": "code",
        "id": "7vXcJ3L0TzNx",
        "outputId": "97afe508-34fc-4bf9-ccb2-afaaa66381c4"
      },
      "outputs": [
        {
          "name": "stdout",
          "output_type": "stream",
          "text": [
            "[0. 0. 0. 0. 0. 1. 0. 0. 0. 0.]\n",
            "[1. 0. 0. 0. 0. 0. 0. 0. 0. 0.]\n",
            "[0. 0. 0. 0. 1. 0. 0. 0. 0. 0.]\n",
            "[0. 1. 0. 0. 0. 0. 0. 0. 0. 0.]\n",
            "[0. 0. 0. 0. 0. 0. 0. 0. 0. 1.]\n",
            "[0. 0. 1. 0. 0. 0. 0. 0. 0. 0.]\n",
            "[0. 1. 0. 0. 0. 0. 0. 0. 0. 0.]\n",
            "[0. 0. 0. 1. 0. 0. 0. 0. 0. 0.]\n",
            "[0. 1. 0. 0. 0. 0. 0. 0. 0. 0.]\n",
            "[0. 0. 0. 0. 1. 0. 0. 0. 0. 0.]\n",
            "(60000, 28, 28)\n"
          ]
        }
      ],
      "source": [
        "# Loop through each sample in the training data and print its label again (after conversion)\n",
        "for i in range(10):\n",
        "  print(y_train[i])\n",
        "\n",
        "# Print shape of the X training set\n",
        "print(x_train.shape)\n",
        "\n",
        "# Pick a random index and print the [28x28] matrix corresponding to the image at this index\n",
        "random_idx = np.random.choice(len(x_train))\n",
        "#print(x_train[random_idx])\n",
        "\n",
        "#sample_img = x_train[random_idx].reshape(28,28)\n",
        "#print(sample_img)"
      ]
    },
    {
      "cell_type": "markdown",
      "metadata": {
        "colab_type": "text",
        "id": "uwQcpaBuUTe_"
      },
      "source": [
        "# Prepare Data for the training phase"
      ]
    },
    {
      "cell_type": "code",
      "execution_count": 134,
      "metadata": {
        "colab": {},
        "colab_type": "code",
        "id": "yN6M-is5T0nu"
      },
      "outputs": [],
      "source": [
        "# Normalize the pixel values of the training images by dividing each value by 255.0\n",
        "\n",
        "# This code is normalizing the pixel values of the training and test images to be between 0 and 1, which is a common practice in deep learning models.\n",
        "# In this case, it's likely that the original pixel values were between 0 and 255 (i.e., 8-bit grayscale), so dividing each value by 255.0 brings \n",
        "# them down to the range [0, 1]. This normalization helps to:\n",
        "#   Reduce the effect of large pixel values on the model's training and testing\n",
        "#   Make the model more robust to small variations in brightness or contrast\n",
        "#   Improve the convergence and accuracy of the model\n",
        "# Note that this is a simple form of data normalization. \n",
        "# In some cases, you may need to use more sophisticated techniques, such as mean subtraction or standardization, depending on the specific characteristics \n",
        "# of your dataset.\n",
        "x_train = x_train / 255.0\n",
        "x_test = x_test / 255.0"
      ]
    },
    {
      "cell_type": "code",
      "execution_count": 135,
      "metadata": {
        "colab": {
          "base_uri": "https://localhost:8080/",
          "height": 34
        },
        "colab_type": "code",
        "id": "x2kNxq2rUsoG",
        "outputId": "ddf2b84e-130c-42ac-a720-1b638d270c1d"
      },
      "outputs": [
        {
          "name": "stdout",
          "output_type": "stream",
          "text": [
            "(60000, 784)\n"
          ]
        }
      ],
      "source": [
        "# Reshape the test images from (height, width, channels) to (samples, features)\n",
        "\n",
        "# The -1 in the reshape method is a special value that tells NumPy to automatically calculate the size based on the other dimensions. \n",
        "# In this case, it means that the first dimension (the number of samples) will remain unchanged, and the second dimension (the number of features) \n",
        "# will be calculated as the product of the height, width, and channels.\n",
        "\n",
        "# Before reshaping, x_train likely had a shape like ( Samples, Height, Width, Channels ), where each image is represented by a 4D array with three \n",
        "# dimensions for spatial information (height, width, and channels).\n",
        "\n",
        "# After reshaping, x_train will have a shape like (Samples, Features), where the number of features is equal to the product of height, width, and channels. \n",
        "# This is often referred to as a \"flat\" or \"vectorized\" representation, which is suitable for inputting into neural networks.\n",
        "\n",
        "# By printing the shape of x_train using print(x_train.shape), you can verify that the reshaping was successful and check the new shape of your data.\n",
        "\n",
        "x_train = x_train.reshape(x_train.shape[0], -1)\n",
        "x_test = x_test.reshape(x_test.shape[0], -1)\n",
        "print(x_train.shape)"
      ]
    },
    {
      "cell_type": "markdown",
      "metadata": {
        "colab_type": "text",
        "id": "9-K1km4JVQpe"
      },
      "source": [
        "# Create the Model : a Fully Fast Forward Connected Neural Network (CNN)"
      ]
    },
    {
      "cell_type": "code",
      "execution_count": 136,
      "metadata": {
        "colab": {
          "base_uri": "https://localhost:8080/",
          "height": 289
        },
        "colab_type": "code",
        "id": "pOE4hD2HUxZt",
        "outputId": "0748afca-9037-427d-80d0-3b0ba8902ee1"
      },
      "outputs": [
        {
          "name": "stdout",
          "output_type": "stream",
          "text": [
            "Model: \"sequential_5\"\n",
            "_________________________________________________________________\n",
            " Layer (type)                Output Shape              Param #   \n",
            "=================================================================\n",
            " dense_15 (Dense)            (None, 128)               100480    \n",
            "                                                                 \n",
            " dense_16 (Dense)            (None, 128)               16512     \n",
            "                                                                 \n",
            " dropout_5 (Dropout)         (None, 128)               0         \n",
            "                                                                 \n",
            " dense_17 (Dense)            (None, 10)                1290      \n",
            "                                                                 \n",
            "=================================================================\n",
            "Total params: 118,282\n",
            "Trainable params: 118,282\n",
            "Non-trainable params: 0\n",
            "_________________________________________________________________\n"
          ]
        }
      ],
      "source": [
        "# Create a neural network model using the Sequential API\n",
        "model = Sequential()\n",
        "\n",
        "# Add a dense (fully-connected) layer with 128 units, input shape (784,), and ReLU activation\n",
        "# This layer will process the input data and produce an output\n",
        "model.add(Dense(units=128, input_shape=(784,), activation='relu'))\n",
        "\n",
        "# Add another dense layer with 128 units and ReLU activation\n",
        "# This layer will process the output from the previous layer and produce another output\n",
        "model.add(Dense(units=128, activation='relu'))\n",
        "\n",
        "# Add a dropout layer with a drop rate of 0.25 (25%)\n",
        "# Dropout randomly sets 25% of the neurons to zero during training to prevent overfitting\n",
        "model.add(Dropout(0.25))\n",
        "\n",
        "# Add a final dense layer with 10 units and softmax activation\n",
        "# This layer will produce a probability distribution over the 10 classes\n",
        "model.add(Dense(units=10, activation='softmax'))\n",
        "\n",
        "# Compile the model with categorical cross-entropy loss function, Adam optimizer, and accuracy metric\n",
        "model.compile(loss='categorical_crossentropy', optimizer='adam', metrics=['accuracy'])\n",
        "\n",
        "# Print a summary of the model architecture using the `summary()` method\n",
        "model.summary()\n",
        "\n",
        "#                   +---------------+\n",
        "#                   |  Input Layer  |\n",
        "#                   +---------------+\n",
        "#                               |\n",
        "#                               | (784,)\n",
        "#                               v\n",
        "# +-----------------------+       +-----------------------+\n",
        "# |      Dense Layer      |       |      Dense Layer      |\n",
        "# |      (128, ReLU)      |       |      (128, ReLU)      |\n",
        "# +-----------------------+       +-----------------------+\n",
        "#                               |\n",
        "#                               | (0.25 dropout)\n",
        "#                               v\n",
        "# +-----------------------+       +-----------------------+\n",
        "# |      Dropout Layer    |       |        None           |\n",
        "# +-----------------------+       +-----------------------+\n",
        "#                               |\n",
        "#                               v\n",
        "# +-----------------------+       +-----------------------+\n",
        "# |     Final Dense Layer |       |  Softmax Activation   |\n",
        "# |      (10, Softmax)    |       |                       |\n",
        "# +-----------------------+       +-----------------------+\n",
        "\n",
        "# Note that this schema is a simplified representation of the model architecture. \n",
        "# The actual connections between layers may be more complex and involve additional operations such as convolutional layers, pooling layers, etc."
      ]
    },
    {
      "cell_type": "markdown",
      "metadata": {
        "colab_type": "text",
        "id": "7bk3ylbU1Ws4"
      },
      "source": [
        "# Train"
      ]
    },
    {
      "cell_type": "code",
      "execution_count": 137,
      "metadata": {
        "colab": {
          "base_uri": "https://localhost:8080/",
          "height": 374
        },
        "colab_type": "code",
        "id": "d75pU9l31S52",
        "outputId": "6ebaa4c8-fd10-4ce0-8773-56f0e1e2f621"
      },
      "outputs": [
        {
          "name": "stdout",
          "output_type": "stream",
          "text": [
            "Epoch 1/10\n",
            "118/118 [==============================] - 1s 4ms/step - loss: 0.6041 - accuracy: 0.8238\n",
            "Epoch 2/10\n",
            "118/118 [==============================] - 1s 4ms/step - loss: 0.2249 - accuracy: 0.9351\n",
            "Epoch 3/10\n",
            "118/118 [==============================] - 0s 4ms/step - loss: 0.1648 - accuracy: 0.9514\n",
            "Epoch 4/10\n",
            "118/118 [==============================] - 0s 4ms/step - loss: 0.1303 - accuracy: 0.9618\n",
            "Epoch 5/10\n",
            "118/118 [==============================] - 0s 4ms/step - loss: 0.1066 - accuracy: 0.9686\n",
            "Epoch 6/10\n",
            "118/118 [==============================] - 0s 4ms/step - loss: 0.0904 - accuracy: 0.9725\n",
            "Epoch 7/10\n",
            "118/118 [==============================] - 0s 4ms/step - loss: 0.0793 - accuracy: 0.9754\n",
            "Epoch 8/10\n",
            "118/118 [==============================] - 0s 4ms/step - loss: 0.0668 - accuracy: 0.9801\n",
            "Epoch 9/10\n",
            "118/118 [==============================] - 0s 4ms/step - loss: 0.0585 - accuracy: 0.9824\n",
            "Epoch 10/10\n",
            "118/118 [==============================] - 0s 4ms/step - loss: 0.0536 - accuracy: 0.9833\n"
          ]
        },
        {
          "data": {
            "text/plain": [
              "<keras.callbacks.History at 0x7faf10648d00>"
            ]
          },
          "execution_count": 137,
          "metadata": {},
          "output_type": "execute_result"
        }
      ],
      "source": [
        "# Define the batch size for training (number of samples to process in parallel)\n",
        "batch_size = 512\n",
        "\n",
        "# Define the number of epochs for training (iterations over the entire dataset)\n",
        "epochs=10\n",
        "\n",
        "# Train the model using the `fit` method\n",
        "# x_train: input data, y_train: target labels\n",
        "model.fit(x=x_train, y=y_train, batch_size=batch_size, epochs=epochs)"
      ]
    },
    {
      "cell_type": "markdown",
      "metadata": {
        "colab_type": "text",
        "id": "J9Wa4rvE1qMs"
      },
      "source": [
        "# Evaluate"
      ]
    },
    {
      "cell_type": "code",
      "execution_count": 138,
      "metadata": {
        "colab": {
          "base_uri": "https://localhost:8080/",
          "height": 51
        },
        "colab_type": "code",
        "id": "_4lONmsI1g9y",
        "outputId": "7a33457e-21c6-4299-c1af-f14743f5cff6"
      },
      "outputs": [
        {
          "name": "stdout",
          "output_type": "stream",
          "text": [
            "313/313 [==============================] - 0s 956us/step - loss: 0.0740 - accuracy: 0.9779\n",
            "Test Loss: 0.07404565811157227, Test Accuracy: 0.9779000282287598\n"
          ]
        }
      ],
      "source": [
        "# Evaluate the model on the test data using the `evaluate` method\n",
        "test_loss, test_acc = model.evaluate(x_test, y_test)\n",
        "print(\"Test Loss: {}, Test Accuracy: {}\".format(test_loss, test_acc))"
      ]
    },
    {
      "cell_type": "code",
      "execution_count": 139,
      "metadata": {
        "colab": {
          "base_uri": "https://localhost:8080/",
          "height": 255
        },
        "colab_type": "code",
        "id": "wi7yXzCI10Kr",
        "outputId": "213eccb4-ad5c-4764-f2af-f589cad1a059"
      },
      "outputs": [
        {
          "name": "stdout",
          "output_type": "stream",
          "text": [
            "313/313 [==============================] - 0s 678us/step\n",
            "[[1.51214817e-06 1.01589114e-06 2.29171728e-05 ... 9.98995483e-01\n",
            "  3.12089151e-06 7.87453027e-05]\n",
            " [3.01219330e-07 2.97868944e-04 9.98977661e-01 ... 3.95760757e-09\n",
            "  1.17872441e-04 4.01698508e-10]\n",
            " [8.78735136e-06 9.94473875e-01 5.91003394e-04 ... 1.24068686e-03\n",
            "  2.37865327e-03 2.47491698e-05]\n",
            " ...\n",
            " [1.12296075e-10 1.25480870e-08 4.31439676e-11 ... 5.36766436e-07\n",
            "  5.97372832e-07 1.46632856e-05]\n",
            " [7.87142937e-08 3.46787732e-09 1.26237520e-09 ... 3.85376318e-08\n",
            "  1.92632593e-04 1.24824000e-08]\n",
            " [1.02036431e-07 3.21816209e-08 1.78836412e-08 ... 1.73443707e-11\n",
            "  9.82167503e-09 8.25895810e-11]]\n",
            "[7 2 1 ... 4 5 6]\n"
          ]
        }
      ],
      "source": [
        "# Use the model to make predictions on the test data\n",
        "y_pred = model.predict(x_test)\n",
        "\n",
        "# Convert the predicted probabilities into class labels using `argmax`\n",
        "y_pred_classes = np.argmax(y_pred, axis=1)\n",
        "print(y_pred)\n",
        "print(y_pred_classes)\n",
        "\n",
        "# Here's what each part does:\n",
        "#    model.predict(x_test) : This line uses the trained model to make predictions on the test data. \n",
        "#    The output is a NumPy array containing the predicted probability distribution for each sample in the test data.\n",
        "#\n",
        "#    y_pred_classes = np.argmax(y_pred, axis=1) : This line converts the predicted probabilities into class labels by taking the index of \n",
        "#    the maximum value along the specified axis (in this case, axis 1). The output is a NumPy array containing the predicted class labels for each sample in the test data.\n",
        "#\n",
        "#    print(y_pred) : This line prints out the predicted probability distributions for each sample in the test data. \n",
        "#    Each row represents a single prediction, and the columns represent the different classes (or outcomes) that the model can predict.\n",
        "#\n",
        "#    print(y_pred_classes) : This line prints out the predicted class labels for each sample in the test data."
      ]
    },
    {
      "cell_type": "code",
      "execution_count": 140,
      "metadata": {
        "colab": {
          "base_uri": "https://localhost:8080/",
          "height": 300
        },
        "colab_type": "code",
        "id": "UxaVbpGo2ZOm",
        "outputId": "fa584997-bf0b-4524-bfa9-26242a01d4c6"
      },
      "outputs": [
        {
          "name": "stdout",
          "output_type": "stream",
          "text": [
            "Index=9845, x_sample=784\n"
          ]
        },
        {
          "data": {
            "text/plain": [
              "<matplotlib.image.AxesImage at 0x7faf10877c70>"
            ]
          },
          "execution_count": 140,
          "metadata": {},
          "output_type": "execute_result"
        },
        {
          "data": {
            "image/png": "[encoded data removed]",
            "text/plain": [
              "<Figure size 640x480 with 1 Axes>"
            ]
          },
          "metadata": {},
          "output_type": "display_data"
        }
      ],
      "source": [
        "# Single PREDICTION Example on a random sample from the x_test dataset (not known during the training phase)\n",
        "\n",
        "# Select a single random example from the test data for visualization by choosing a random index within the length of x_test\n",
        "random_idx = np.random.choice(len(x_test))\n",
        "#print(x_test[random_idx].shape)\n",
        "#print(x_test[random_idx])\n",
        "\n",
        "# Get the input data (features) at the chosen index\n",
        "x_sample = x_test[random_idx]\n",
        "print(f'Index={random_idx}, x_sample={len(x_sample)}')\n",
        "\n",
        "# Now, extract the true and predicted class labels for this example\n",
        "\n",
        "# And now, we have to onvert the one-hot encoded label to a class label (0-9)\n",
        "\n",
        "# Let's explain more in depth this part:\n",
        "#   np.argmax: This is a function from the NumPy library that finds the index of the maximum value along a specified axis.\n",
        "#   y_test: This is a 2D NumPy array representing the true labels for the test data. Each row corresponds to a single sample, and each column represents a possible class label (in this case, digit classes 0-9).\n",
        "#   axis=1: This specifies that we want to find the maximum value along the second axis (i.e., the rows). In other words, we're looking for the most likely class label for each individual sample.\n",
        "# When you run this code, NumPy will iterate through each row of y_test, find the maximum value in that row, and return the corresponding index. \n",
        "# => This is equivalent to converting the one-hot encoded labels into a single class label (e.g., [0, 0, 1, 0] becomes 2, since 2 is the most likely class).\n",
        "# The resulting array y_true will contain the true class labels for each sample in the test data.\n",
        "y_true = np.argmax(y_test, axis=1)\n",
        "\n",
        "# Get the true class label for this example\n",
        "y_sample_true = y_true[random_idx]\n",
        "\n",
        "# Get the predicted class label for this example\n",
        "y_sample_pred_class = y_pred_classes[random_idx]\n",
        "\n",
        "plt.title(\"Predicted: {}, True: {}\".format(y_sample_pred_class, y_sample_true), fontsize=16)\n",
        "plt.imshow(x_sample.reshape(28, 28), cmap='gray')"
      ]
    },
    {
      "cell_type": "code",
      "execution_count": null,
      "metadata": {},
      "outputs": [],
      "source": []
    },
    {
      "cell_type": "markdown",
      "metadata": {
        "colab_type": "text",
        "id": "q2kYQNGJ3aN5"
      },
      "source": [
        "# Confusion Matrix"
      ]
    },
    {
      "cell_type": "code",
      "execution_count": 141,
      "metadata": {
        "colab": {
          "base_uri": "https://localhost:8080/",
          "height": 621
        },
        "colab_type": "code",
        "id": "77SFgjZ53KJ4",
        "outputId": "dde148b9-f8dd-4b54-cf6b-464c0e32c835"
      },
      "outputs": [
        {
          "data": {
            "image/png": "[encoded data removed]",
            "text/plain": [
              "<Figure size 1500x1000 with 2 Axes>"
            ]
          },
          "metadata": {},
          "output_type": "display_data"
        }
      ],
      "source": [
        "# This code calculates the confusion matrix : a table that summarizes the predictions made by a classification model, using the true and predicted labels. \n",
        "# Then, it creates a plot for the confusion matrix using Seaborn's heatmap function. \n",
        "# The annot=True argument means that each cell in the heatmap will be annotated with the number of correct/incorrect predictions. \n",
        "# The fmt='d' argument specifies the format of the annotations (in this case, decimal integers).\n",
        "\n",
        "# Calculate the confusion matrix using true and predicted labels\n",
        "confusion_mtx = confusion_matrix(y_true, y_pred_classes)\n",
        "\n",
        "# Create a plot for the confusion matrix\n",
        "fig, ax = plt.subplots(figsize=(15,10))\n",
        "ax = sns.heatmap(confusion_mtx, annot=True, fmt='d', ax=ax, cmap=\"Blues\")\n",
        "ax.set_xlabel('Predicted Label')\n",
        "ax.set_ylabel('True Label')\n",
        "ax.set_title('Confusion Matrix');"
      ]
    },
    {
      "cell_type": "markdown",
      "metadata": {
        "colab_type": "text",
        "id": "n-9WrS6w4TO0"
      },
      "source": [
        "# Investigate Some Errors"
      ]
    },
    {
      "cell_type": "code",
      "execution_count": 142,
      "metadata": {
        "colab": {},
        "colab_type": "code",
        "id": "mTfbhmMW3xkU"
      },
      "outputs": [
        {
          "name": "stdout",
          "output_type": "stream",
          "text": [
            "[False False False ... False False False]\n",
            "[9 6 0 7 3 0 9 8 0 2 2 8 9 8 3 4 9 8 9 9 5 9 4 0 3 5 8 2 8 6 0 9 2 4 9 5 1\n",
            " 3 8 6 3 3 3 9 7 6 3 9 6 3 7 0 2 7 3 4 0 8 0 9 9 2 9 9 9 0 7 0 8 9 1 2 0 0\n",
            " 1 1 4 1 4 1 5 0 1 4 3 7 0 3 2 7 1 7 2 9 3 9 0 9 1 4 9 2 0 5 3 9 4 2 3 8 6\n",
            " 3 0 4 1 2 6 3 2 2 5 1 4 4 8 3 3 0 7 9 7 8 3 7 5 7 4 4 3 7 5 4 4 7 8 3 4 9\n",
            " 4 8 4 5 4 5 9 6 8 9 8 7 6 9 7 0 0 9 3 8 3 8 3 9 9 3 9 7 6 1 7 9 5 7 6 4 9\n",
            " 8 8 8 1 8 8 5 8 6 9 0 3 6 2 2 2 2 5 4 3 7 7 3 7 5 6 0 6 0 0 0 9 3 8 8 7]\n"
          ]
        }
      ],
      "source": [
        "# Create a boolean array indicating where predictions are incorrect\n",
        "errors = (y_pred_classes - y_true != 0)\n",
        "print(errors)\n",
        "\n",
        "# Extract the predicted classes, predicted probabilities, true labels, and input data for incorrect predictions only\n",
        "y_pred_classes_errors = y_pred_classes[errors]  # Predicted class labels for errors\n",
        "y_pred_errors = y_pred[errors]                  # Predicted probabilities for errors\n",
        "y_true_errors = y_true[errors]                  # True class labels for errors\n",
        "x_test_errors = x_test[errors]                  # Input data (features) for errors\n",
        "\n",
        "# This code identifies the incorrect predictions by subtracting the true labels from the predicted class labels. \n",
        "# It then extracts the relevant information (predicted classes, probabilities, true labels, and input data) only for these incorrect predictions.\n",
        "\n",
        "# The errors array is a boolean mask that indicates which indices in the original arrays correspond to incorrect predictions.\n",
        "# The indexing operation [errors] uses this mask to extract the corresponding elements from each array, resulting in separate arrays \n",
        "# for the errors (incorrect predictions).\n",
        "print(y_pred_classes_errors)"
      ]
    },
    {
      "cell_type": "code",
      "execution_count": 143,
      "metadata": {
        "colab": {},
        "colab_type": "code",
        "id": "w-IfVAiJ4os4"
      },
      "outputs": [],
      "source": [
        "y_pred_errors_probability = np.max(y_pred_errors, axis=1)\n",
        "true_probability_errors = np.diagonal(np.take(y_pred_errors, y_true_errors, axis=1))\n",
        "diff_errors_pred_true = y_pred_errors_probability - true_probability_errors\n",
        "\n",
        "# Get list of indices of sorted differences\n",
        "sorted_idx_diff_errors = np.argsort(diff_errors_pred_true)\n",
        "top_idx_diff_errors = sorted_idx_diff_errors[-5:] # 5 last ones"
      ]
    },
    {
      "cell_type": "code",
      "execution_count": 144,
      "metadata": {
        "colab": {
          "base_uri": "https://localhost:8080/",
          "height": 350
        },
        "colab_type": "code",
        "id": "99OZQyuI5H6h",
        "outputId": "95258142-08a0-42c4-db42-280d86f844fa"
      },
      "outputs": [
        {
          "data": {
            "image/png": "[encoded data removed]",
            "text/plain": [
              "<Figure size 3000x3000 with 5 Axes>"
            ]
          },
          "metadata": {},
          "output_type": "display_data"
        }
      ],
      "source": [
        "# Show Top Errors\n",
        "num = len(top_idx_diff_errors)\n",
        "f, ax = plt.subplots(1, num, figsize=(30,30))\n",
        "\n",
        "for i in range(0, num):\n",
        "  idx = top_idx_diff_errors[i]\n",
        "  sample = x_test_errors[idx].reshape(28,28)\n",
        "  y_t = y_true_errors[idx]\n",
        "  y_p = y_pred_classes_errors[idx]\n",
        "  ax[i].imshow(sample, cmap='gray')\n",
        "  ax[i].set_title(\"Predicted label :{}\\nTrue label: {}\".format(y_p, y_t), fontsize=22)"
      ]
    }
  ],
  "metadata": {
    "colab": {
      "name": "MNIST Digits Classfication.ipynb",
      "provenance": []
    },
    "kernelspec": {
      "display_name": "Python 3",
      "name": "python3"
    },
    "language_info": {
      "codemirror_mode": {
        "name": "ipython",
        "version": 3
      },
      "file_extension": ".py",
      "mimetype": "text/x-python",
      "name": "python",
      "nbconvert_exporter": "python",
      "pygments_lexer": "ipython3",
      "version": "3.9.18"
    }
  },
  "nbformat": 4,
  "nbformat_minor": 0
}
